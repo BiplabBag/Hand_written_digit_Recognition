{
  "nbformat": 4,
  "nbformat_minor": 0,
  "metadata": {
    "colab": {
      "name": "Hand_written_digit_Recognition.ipynb",
      "provenance": [],
      "authorship_tag": "ABX9TyPVXynJ0ttR4q/dcSzcSq24",
      "include_colab_link": true
    },
    "kernelspec": {
      "name": "python3",
      "display_name": "Python 3"
    },
    "language_info": {
      "name": "python"
    },
    "accelerator": "GPU",
    "gpuClass": "standard"
  },
  "cells": [
    {
      "cell_type": "markdown",
      "metadata": {
        "id": "view-in-github",
        "colab_type": "text"
      },
      "source": [
        "<a href=\"https://colab.research.google.com/github/BiplabBag/Hand_written_digit_Recognition/blob/main/Hand_written_digit_Recognition.ipynb\" target=\"_parent\"><img src=\"https://colab.research.google.com/assets/colab-badge.svg\" alt=\"Open In Colab\"/></a>"
      ]
    },
    {
      "cell_type": "code",
      "execution_count": 1,
      "metadata": {
        "id": "324fjxcUS-T9"
      },
      "outputs": [],
      "source": [
        "import tensorflow\n",
        "import numpy as np\n",
        "import matplotlib.pyplot as plt"
      ]
    },
    {
      "cell_type": "markdown",
      "source": [
        "Dividing  Dataset into Train and Test "
      ],
      "metadata": {
        "id": "xAPcyE0syqIe"
      }
    },
    {
      "cell_type": "code",
      "source": [
        "(x_train, y_train), (x_test, y_test) = tensorflow.keras.datasets.mnist.load_data()"
      ],
      "metadata": {
        "colab": {
          "base_uri": "https://localhost:8080/"
        },
        "id": "kCHheepXTBUq",
        "outputId": "2989f787-be36-415d-afc0-473daf6c096a"
      },
      "execution_count": 2,
      "outputs": [
        {
          "output_type": "stream",
          "name": "stdout",
          "text": [
            "Downloading data from https://storage.googleapis.com/tensorflow/tf-keras-datasets/mnist.npz\n",
            "11493376/11490434 [==============================] - 0s 0us/step\n",
            "11501568/11490434 [==============================] - 0s 0us/step\n"
          ]
        }
      ]
    },
    {
      "cell_type": "markdown",
      "source": [
        "Visualising Examples with Labels"
      ],
      "metadata": {
        "id": "CNMq4PSHzBSr"
      }
    },
    {
      "cell_type": "code",
      "source": [
        "def display_some_images(examples,labels):\n",
        "    \n",
        "    for i in range(9):\n",
        "        idx = np.random.randint(0, examples.shape[0]-1)\n",
        "        img = examples[idx]\n",
        "        label = labels[idx]\n",
        "        \n",
        "        plt.Figure(figsize = (30,30))\n",
        "        plt.subplot(3,3,i+1)\n",
        "        plt.title(str(label))\n",
        "        plt.tight_layout()\n",
        "        plt.imshow(img, cmap = 'gray') # as the images are in gray scale we use cmap = 'gray'\n",
        "    plt.show()    \n",
        "display_some_images(x_train,y_train)"
      ],
      "metadata": {
        "id": "n7O4we4xT6Nm",
        "colab": {
          "base_uri": "https://localhost:8080/",
          "height": 297
        },
        "outputId": "2b8347e8-aa30-4e21-be4a-a4ec1864388c"
      },
      "execution_count": 3,
      "outputs": [
        {
          "output_type": "display_data",
          "data": {
            "text/plain": [
              "<Figure size 432x288 with 9 Axes>"
            ],
            "image/png": "[encoded data removed]"
          },
          "metadata": {
            "needs_background": "light"
          }
        }
      ]
    },
    {
      "cell_type": "markdown",
      "source": [
        "# Preprocess the data\n",
        "The value of each pixel in the image data is an integer in the range [0,255]. For the model to work properly, these values need to be normalized to the range [0,1]. So here we create a normalization function, and then apply it to each image in the test and train datasets. 'float32' is used to convert intesity level from 'uint8' type to float type. "
      ],
      "metadata": {
        "id": "4jKhNTVuzxKD"
      }
    },
    {
      "cell_type": "code",
      "source": [
        "x_train =  x_train.astype('float32')/255\n",
        "x_test  =  x_test.astype('float32')/255"
      ],
      "metadata": {
        "id": "zruZ3QSMmi_1"
      },
      "execution_count": 4,
      "outputs": []
    },
    {
      "cell_type": "markdown",
      "source": [
        "# Build the model\n",
        "Building the neural network requires configuring the layers of the model, then compiling the model."
      ],
      "metadata": {
        "id": "Fu6Sw0iJ21p2"
      }
    },
    {
      "cell_type": "markdown",
      "source": [
        "# Setup the layers\n",
        "The basic building block of a neural network is the layer. A layer consists of several neurons.No of layers and no of neurons in each layers are variables and can be modified for better accuracy. "
      ],
      "metadata": {
        "id": "rJ4JOJr63Dgi"
      }
    },
    {
      "cell_type": "code",
      "source": [
        "model = tensorflow.keras.Sequential([\n",
        "    tensorflow.keras.layers.Flatten(input_shape=(28, 28, 1)),\n",
        "    tensorflow.keras.layers.Dense(64, activation=tensorflow.nn.relu),\n",
        "    tensorflow.keras.layers.Dense(64, activation=tensorflow.nn.relu),\n",
        "    tensorflow.keras.layers.Dense(10, activation=tensorflow.nn.softmax)\n",
        "])"
      ],
      "metadata": {
        "id": "TZBrnX7JnEnY"
      },
      "execution_count": 5,
      "outputs": []
    },
    {
      "cell_type": "markdown",
      "source": [
        "This network has three layers:\n",
        "\n",
        "**input** tf.keras.layers.Flatten — This layer transforms the images from a 2d-array of 28  ×  28 pixels, to a 1d-array of 784 pixels (28*28).\n",
        "\n",
        "**hidden** tf.keras.layers.Dense— Two densely connected layer of 64 neurons in each. Each neuron (or node) takes input from all 784 nodes in the previous layer, weighting that input according to hidden parameters which will be learned during training, and outputs a single value to the next layer.\n",
        "\n",
        "**output** tf.keras.layers.Dense — Two layers of 64-neurons in each, followed by 10-node softmax layer. Each node represents a digit. As in the previous layer, the final layer takes input from the 64 nodes in the layer before it, and outputs a value in the range [0, 1], representing the probability that the image belongs to that class. The sum of all 10 node values is 1.\n",
        "\n",
        "**note** SparseCategoricalCrossentropy() will provide the loss."
      ],
      "metadata": {
        "id": "q6yYOJ1F56Pf"
      }
    },
    {
      "cell_type": "markdown",
      "source": [
        "# Compile the model\n",
        "Some more functionalities are added with the model. These are added during the model's compile step:\n",
        "\n",
        "Loss function — An algorithm for measuring how far the model's outputs are from the desired output. The goal of training is this measures loss.\n",
        "Optimizer —An algorithm for adjusting the inner parameters of the model in order to minimize loss.\n",
        "Metrics —Used to monitor the training and testing steps. The following example uses accuracy, the fraction of the images that are correctly classified."
      ],
      "metadata": {
        "id": "5nx5RwNh8bRf"
      }
    },
    {
      "cell_type": "code",
      "source": [
        "model.compile(optimizer='adam',\n",
        "              loss=tensorflow.keras.losses.SparseCategoricalCrossentropy(),\n",
        "              metrics=['accuracy'])"
      ],
      "metadata": {
        "id": "6KZRossBnVm6"
      },
      "execution_count": 6,
      "outputs": []
    },
    {
      "cell_type": "markdown",
      "source": [
        "# Train the model\n",
        "Model is fitted with training data.\n",
        "\n",
        "**batch_size** udation of internal paraters after the pass of that no of examples(nof of exxamples is equal to batchsize)\n",
        "\n",
        "**epochs** in total training time how many times the whole dataset is passed through the model"
      ],
      "metadata": {
        "id": "zBz9x1Ga9jJt"
      }
    },
    {
      "cell_type": "code",
      "source": [
        "model.fit(x_train, y_train, batch_size = 64, epochs=5)"
      ],
      "metadata": {
        "colab": {
          "base_uri": "https://localhost:8080/"
        },
        "id": "X535ZmeDnZXB",
        "outputId": "14f0fe98-b5e5-4bc8-c64c-97f786b015fd"
      },
      "execution_count": 7,
      "outputs": [
        {
          "output_type": "stream",
          "name": "stdout",
          "text": [
            "Epoch 1/5\n",
            "938/938 [==============================] - 5s 3ms/step - loss: 0.3257 - accuracy: 0.9074\n",
            "Epoch 2/5\n",
            "938/938 [==============================] - 2s 3ms/step - loss: 0.1407 - accuracy: 0.9582\n",
            "Epoch 3/5\n",
            "938/938 [==============================] - 2s 3ms/step - loss: 0.1016 - accuracy: 0.9687\n",
            "Epoch 4/5\n",
            "938/938 [==============================] - 2s 3ms/step - loss: 0.0791 - accuracy: 0.9759\n",
            "Epoch 5/5\n",
            "938/938 [==============================] - 2s 3ms/step - loss: 0.0647 - accuracy: 0.9803\n"
          ]
        },
        {
          "output_type": "execute_result",
          "data": {
            "text/plain": [
              "<keras.callbacks.History at 0x7f4ec0172190>"
            ]
          },
          "metadata": {},
          "execution_count": 7
        }
      ]
    },
    {
      "cell_type": "markdown",
      "source": [
        "# Evaluate accuracy\n",
        "Next, compare how the model performs on the test dataset. Use all examples we have in the test dataset to assess accuracy."
      ],
      "metadata": {
        "id": "lUJ-t6IT_wzr"
      }
    },
    {
      "cell_type": "code",
      "source": [
        "test_loss, test_accuracy = model.evaluate(x_test, y_test, batch_size = 64)\n",
        "print('Accuracy of the model:', test_accuracy)\n"
      ],
      "metadata": {
        "colab": {
          "base_uri": "https://localhost:8080/"
        },
        "id": "S6jnUSQTn6pA",
        "outputId": "08e6f7cf-2152-4786-a163-6b21c6e9cd4f"
      },
      "execution_count": 9,
      "outputs": [
        {
          "output_type": "stream",
          "name": "stdout",
          "text": [
            "157/157 [==============================] - 0s 2ms/step - loss: 0.0885 - accuracy: 0.9720\n",
            "Accuracy of the model: 0.972000002861023\n"
          ]
        }
      ]
    },
    {
      "cell_type": "markdown",
      "source": [
        "# Make predictions and visualise\n",
        "With the model trained, we can use it to make predictions and visualise some images."
      ],
      "metadata": {
        "id": "wmCGU70pDbX_"
      }
    },
    {
      "cell_type": "code",
      "source": [
        "def predict_and_display_images(examples,labels):\n",
        "        imges = examples[0:9][:][:]           # only take 9 examples from x_test\n",
        "        prediction = model.predict(imges)      # model.predict(imges) return 2-d array of 9 probability distribution\n",
        "        for i in range(9):\n",
        "                  pred_label = np.argmax(prediction[i]) # give the predicted label of each test case\n",
        "                  img = examples[i]\n",
        "                  plt.Figure(figsize = (30,30))\n",
        "                  plt.subplot(3,3,i+1)\n",
        "                  plt.title('Predicted lebel ' + str(pred_label))\n",
        "                  plt.tight_layout()\n",
        "                  plt.imshow(img, cmap = 'gray') # as the images are in gray scale we use cmap = 'gray'\n",
        "        plt.show()"
      ],
      "metadata": {
        "id": "jUrpqFvN8_zg"
      },
      "execution_count": 16,
      "outputs": []
    },
    {
      "cell_type": "code",
      "source": [
        "predict_and_display_images(x_test,y_test)"
      ],
      "metadata": {
        "colab": {
          "base_uri": "https://localhost:8080/",
          "height": 297
        },
        "id": "npi-81FBELwq",
        "outputId": "12277f41-e9d8-4075-da58-916b2a80071a"
      },
      "execution_count": 17,
      "outputs": [
        {
          "output_type": "display_data",
          "data": {
            "text/plain": [
              "<Figure size 432x288 with 9 Axes>"
            ],
            "image/png": "[encoded data removed]"
          },
          "metadata": {
            "needs_background": "light"
          }
        }
      ]
    },
    {
      "cell_type": "code",
      "source": [],
      "metadata": {
        "id": "7bFBzletOPX9"
      },
      "execution_count": null,
      "outputs": []
    },
    {
      "cell_type": "markdown",
      "source": [
        "From the labels of each of the above images, it is clear that all images are correctly recognised."
      ],
      "metadata": {
        "id": "iZVMEpXxIZRR"
      }
    }
  ]
}